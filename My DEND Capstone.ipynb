{
 "cells": [
  {
   "cell_type": "markdown",
   "metadata": {
    "editable": true
   },
   "source": [
    "# International Tourists Arrivals into USA Airports\n",
    "\n",
    "__Data Engineer:__ Lysmar Freitas\n",
    "\n",
    "#### Project Summary\n",
    "A Car Rental Company that operates at USA airports hired me to develop a data model in order to do fast data analysis about the international tourists arrivals into the country airport cities in the last years. Some of the main interests with the analysis is to know tourists origin countries and their ammount, tourists travel reasons and the average time they spent during their stay.\n",
    "\n",
    "\n",
    "The project follows the follow steps:\n",
    "* Step 1: Scope the Project and Gather Data\n",
    "* Step 2: Explore and Assess the Data\n",
    "* Step 3: Define the Data Model\n",
    "* Step 4: Run ETL to Model the Data\n",
    "* Step 5: Complete Project Write Up"
   ]
  },
  {
   "cell_type": "code",
   "execution_count": 1,
   "metadata": {
    "editable": true
   },
   "outputs": [],
   "source": [
    "# Do all imports and installs here\n",
    "import pandas as pd\n",
    "import os\n",
    "import glob\n",
    "\n",
    "from pyspark.sql import SparkSession, SQLContext, GroupedData\n",
    "from pyspark.sql.functions import *\n",
    "\n",
    "from origin_codes import city_code_udf, city_codes, country_udf, visa_code_udf\n",
    "\n",
    "from datetime import datetime\n",
    "import pyspark.sql.functions as F\n",
    "import pyspark.sql.types as T"
   ]
  },
  {
   "cell_type": "code",
   "execution_count": 2,
   "metadata": {
    "editable": true
   },
   "outputs": [],
   "source": [
    "#Build spark session\n",
    "spark = SparkSession.builder.\\\n",
    "config(\"spark.jars.packages\",\"saurfang:spark-sas7bdat:2.0.0-s_2.11\")\\\n",
    ".enableHiveSupport().getOrCreate()"
   ]
  },
  {
   "cell_type": "code",
   "execution_count": 46,
   "metadata": {
    "editable": true
   },
   "outputs": [],
   "source": [
    "#Build SQL context object\n",
    "sqlContext = SQLContext(spark)"
   ]
  },
  {
   "cell_type": "code",
   "execution_count": 3,
   "metadata": {
    "editable": true
   },
   "outputs": [],
   "source": [
    "# Create helper to convert spark to pandas dataframe \n",
    "def spark_to_pandas(results):\n",
    "    import pandas as pd\n",
    "    df = pd.DataFrame(results, columns=results[0].__fields__)\n",
    "    return df"
   ]
  },
  {
   "cell_type": "markdown",
   "metadata": {
    "editable": true
   },
   "source": [
    "### Step 1: Scope the Project and Gather Data\n",
    "\n",
    "#### Scope \n",
    "\n",
    "The goal of this project is to pull data from two sources, and create a fact and dimension tables to show international travelers patterns that arrives into USA cities airports. \n",
    "\n",
    "Spark was chosen to develop this project for processing large amount of data fast, scale easily with additional worker nodes, with ability to digest different data formats (e.g. SAS, Parquet, CSV).\n",
    "\n",
    "#### Describe and Gather Data \n",
    "To develop the project, it was used the following datasets:\n",
    "\n",
    "- __I94 Immigration Data:__ this dataset comes from the US National Tourism and Trade Office and includes details on incoming immigrants and their ports of entry. A dataset that includes flight passenger data collected at immigration, such as the airport, arrival and departure, birthyear, gender, airline, etc.\n",
    "https://travel.trade.gov/research/reports/i94/historical/2016.html\n",
    " \n",
    "\n",
    "- __Airport Code Table:__ this dataset comes from datahub.io and includes airport codes and corresponding cities.\n",
    "https://datahub.io/core/airport-codes#data"
   ]
  },
  {
   "cell_type": "code",
   "execution_count": 4,
   "metadata": {
    "editable": true
   },
   "outputs": [],
   "source": [
    "# Read in the data \n",
    "\n",
    "df_immi=spark.read.format('com.github.saurfang.sas.spark').load(\"../../data/18-83510-I94-Data-2016/i94_jun16_sub.sas7bdat\")\n",
    "\n",
    "\n",
    "df_airport=spark.read.format(\"csv\").option(\"header\", \"true\").load(\"airport-codes_csv.csv\")"
   ]
  },
  {
   "cell_type": "markdown",
   "metadata": {
    "editable": true
   },
   "source": [
    "### Step 2: Explore and Assess the Data\n",
    "#### Explore the Data \n",
    "Identifying data quality issues, like missing values, duplicate data, etc."
   ]
  },
  {
   "cell_type": "markdown",
   "metadata": {
    "editable": true
   },
   "source": [
    "##### I94 Immigration Data"
   ]
  },
  {
   "cell_type": "code",
   "execution_count": 5,
   "metadata": {
    "editable": true
   },
   "outputs": [
    {
     "name": "stdout",
     "output_type": "stream",
     "text": [
      "root\n",
      " |-- cicid: double (nullable = true)\n",
      " |-- i94yr: double (nullable = true)\n",
      " |-- i94mon: double (nullable = true)\n",
      " |-- i94cit: double (nullable = true)\n",
      " |-- i94res: double (nullable = true)\n",
      " |-- i94port: string (nullable = true)\n",
      " |-- arrdate: double (nullable = true)\n",
      " |-- i94mode: double (nullable = true)\n",
      " |-- i94addr: string (nullable = true)\n",
      " |-- depdate: double (nullable = true)\n",
      " |-- i94bir: double (nullable = true)\n",
      " |-- i94visa: double (nullable = true)\n",
      " |-- count: double (nullable = true)\n",
      " |-- validres: double (nullable = true)\n",
      " |-- delete_days: double (nullable = true)\n",
      " |-- delete_mexl: double (nullable = true)\n",
      " |-- delete_dup: double (nullable = true)\n",
      " |-- delete_visa: double (nullable = true)\n",
      " |-- delete_recdup: double (nullable = true)\n",
      " |-- dtadfile: string (nullable = true)\n",
      " |-- visapost: string (nullable = true)\n",
      " |-- occup: string (nullable = true)\n",
      " |-- entdepa: string (nullable = true)\n",
      " |-- entdepd: string (nullable = true)\n",
      " |-- entdepu: string (nullable = true)\n",
      " |-- matflag: string (nullable = true)\n",
      " |-- biryear: double (nullable = true)\n",
      " |-- dtaddto: string (nullable = true)\n",
      " |-- gender: string (nullable = true)\n",
      " |-- insnum: string (nullable = true)\n",
      " |-- airline: string (nullable = true)\n",
      " |-- admnum: double (nullable = true)\n",
      " |-- fltno: string (nullable = true)\n",
      " |-- visatype: string (nullable = true)\n",
      "\n"
     ]
    }
   ],
   "source": [
    "df_immi.printSchema()"
   ]
  },
  {
   "cell_type": "code",
   "execution_count": 6,
   "metadata": {
    "editable": true
   },
   "outputs": [
    {
     "data": {
      "text/html": [
       "<div>\n",
       "<style scoped>\n",
       "    .dataframe tbody tr th:only-of-type {\n",
       "        vertical-align: middle;\n",
       "    }\n",
       "\n",
       "    .dataframe tbody tr th {\n",
       "        vertical-align: top;\n",
       "    }\n",
       "\n",
       "    .dataframe thead th {\n",
       "        text-align: right;\n",
       "    }\n",
       "</style>\n",
       "<table border=\"1\" class=\"dataframe\">\n",
       "  <thead>\n",
       "    <tr style=\"text-align: right;\">\n",
       "      <th></th>\n",
       "      <th>cicid</th>\n",
       "      <th>i94yr</th>\n",
       "      <th>i94mon</th>\n",
       "      <th>i94cit</th>\n",
       "      <th>i94res</th>\n",
       "      <th>i94port</th>\n",
       "      <th>arrdate</th>\n",
       "      <th>i94mode</th>\n",
       "      <th>i94addr</th>\n",
       "      <th>depdate</th>\n",
       "      <th>...</th>\n",
       "      <th>entdepu</th>\n",
       "      <th>matflag</th>\n",
       "      <th>biryear</th>\n",
       "      <th>dtaddto</th>\n",
       "      <th>gender</th>\n",
       "      <th>insnum</th>\n",
       "      <th>airline</th>\n",
       "      <th>admnum</th>\n",
       "      <th>fltno</th>\n",
       "      <th>visatype</th>\n",
       "    </tr>\n",
       "  </thead>\n",
       "  <tbody>\n",
       "    <tr>\n",
       "      <th>0</th>\n",
       "      <td>4.0</td>\n",
       "      <td>2016.0</td>\n",
       "      <td>6.0</td>\n",
       "      <td>135.0</td>\n",
       "      <td>135.0</td>\n",
       "      <td>XXX</td>\n",
       "      <td>20612.0</td>\n",
       "      <td>None</td>\n",
       "      <td>None</td>\n",
       "      <td>None</td>\n",
       "      <td>...</td>\n",
       "      <td>U</td>\n",
       "      <td>None</td>\n",
       "      <td>1957.0</td>\n",
       "      <td>10032016</td>\n",
       "      <td>None</td>\n",
       "      <td>None</td>\n",
       "      <td>None</td>\n",
       "      <td>1.493846e+10</td>\n",
       "      <td>None</td>\n",
       "      <td>WT</td>\n",
       "    </tr>\n",
       "    <tr>\n",
       "      <th>1</th>\n",
       "      <td>5.0</td>\n",
       "      <td>2016.0</td>\n",
       "      <td>6.0</td>\n",
       "      <td>135.0</td>\n",
       "      <td>135.0</td>\n",
       "      <td>XXX</td>\n",
       "      <td>20612.0</td>\n",
       "      <td>None</td>\n",
       "      <td>None</td>\n",
       "      <td>None</td>\n",
       "      <td>...</td>\n",
       "      <td>U</td>\n",
       "      <td>None</td>\n",
       "      <td>1966.0</td>\n",
       "      <td>10032016</td>\n",
       "      <td>None</td>\n",
       "      <td>None</td>\n",
       "      <td>None</td>\n",
       "      <td>1.746006e+10</td>\n",
       "      <td>None</td>\n",
       "      <td>WT</td>\n",
       "    </tr>\n",
       "    <tr>\n",
       "      <th>2</th>\n",
       "      <td>6.0</td>\n",
       "      <td>2016.0</td>\n",
       "      <td>6.0</td>\n",
       "      <td>213.0</td>\n",
       "      <td>213.0</td>\n",
       "      <td>XXX</td>\n",
       "      <td>20609.0</td>\n",
       "      <td>None</td>\n",
       "      <td>None</td>\n",
       "      <td>None</td>\n",
       "      <td>...</td>\n",
       "      <td>U</td>\n",
       "      <td>None</td>\n",
       "      <td>1989.0</td>\n",
       "      <td>D/S</td>\n",
       "      <td>None</td>\n",
       "      <td>None</td>\n",
       "      <td>None</td>\n",
       "      <td>1.679298e+09</td>\n",
       "      <td>None</td>\n",
       "      <td>F1</td>\n",
       "    </tr>\n",
       "    <tr>\n",
       "      <th>3</th>\n",
       "      <td>7.0</td>\n",
       "      <td>2016.0</td>\n",
       "      <td>6.0</td>\n",
       "      <td>213.0</td>\n",
       "      <td>213.0</td>\n",
       "      <td>XXX</td>\n",
       "      <td>20611.0</td>\n",
       "      <td>None</td>\n",
       "      <td>None</td>\n",
       "      <td>None</td>\n",
       "      <td>...</td>\n",
       "      <td>U</td>\n",
       "      <td>None</td>\n",
       "      <td>1993.0</td>\n",
       "      <td>D/S</td>\n",
       "      <td>None</td>\n",
       "      <td>None</td>\n",
       "      <td>None</td>\n",
       "      <td>1.140963e+09</td>\n",
       "      <td>None</td>\n",
       "      <td>F1</td>\n",
       "    </tr>\n",
       "    <tr>\n",
       "      <th>4</th>\n",
       "      <td>16.0</td>\n",
       "      <td>2016.0</td>\n",
       "      <td>6.0</td>\n",
       "      <td>245.0</td>\n",
       "      <td>245.0</td>\n",
       "      <td>XXX</td>\n",
       "      <td>20632.0</td>\n",
       "      <td>None</td>\n",
       "      <td>None</td>\n",
       "      <td>None</td>\n",
       "      <td>...</td>\n",
       "      <td>U</td>\n",
       "      <td>None</td>\n",
       "      <td>1992.0</td>\n",
       "      <td>D/S</td>\n",
       "      <td>None</td>\n",
       "      <td>None</td>\n",
       "      <td>None</td>\n",
       "      <td>1.934535e+09</td>\n",
       "      <td>None</td>\n",
       "      <td>F1</td>\n",
       "    </tr>\n",
       "  </tbody>\n",
       "</table>\n",
       "<p>5 rows × 34 columns</p>\n",
       "</div>"
      ],
      "text/plain": [
       "   cicid   i94yr  i94mon  i94cit  i94res i94port  arrdate i94mode i94addr  \\\n",
       "0    4.0  2016.0     6.0   135.0   135.0     XXX  20612.0    None    None   \n",
       "1    5.0  2016.0     6.0   135.0   135.0     XXX  20612.0    None    None   \n",
       "2    6.0  2016.0     6.0   213.0   213.0     XXX  20609.0    None    None   \n",
       "3    7.0  2016.0     6.0   213.0   213.0     XXX  20611.0    None    None   \n",
       "4   16.0  2016.0     6.0   245.0   245.0     XXX  20632.0    None    None   \n",
       "\n",
       "  depdate   ...     entdepu  matflag  biryear   dtaddto  gender  insnum  \\\n",
       "0    None   ...           U     None   1957.0  10032016    None    None   \n",
       "1    None   ...           U     None   1966.0  10032016    None    None   \n",
       "2    None   ...           U     None   1989.0       D/S    None    None   \n",
       "3    None   ...           U     None   1993.0       D/S    None    None   \n",
       "4    None   ...           U     None   1992.0       D/S    None    None   \n",
       "\n",
       "   airline        admnum  fltno visatype  \n",
       "0     None  1.493846e+10   None       WT  \n",
       "1     None  1.746006e+10   None       WT  \n",
       "2     None  1.679298e+09   None       F1  \n",
       "3     None  1.140963e+09   None       F1  \n",
       "4     None  1.934535e+09   None       F1  \n",
       "\n",
       "[5 rows x 34 columns]"
      ]
     },
     "execution_count": 6,
     "metadata": {},
     "output_type": "execute_result"
    }
   ],
   "source": [
    "# view data into a dataframe\n",
    "spark_to_pandas(df_immi.take(5))"
   ]
  },
  {
   "cell_type": "code",
   "execution_count": 7,
   "metadata": {
    "editable": true
   },
   "outputs": [
    {
     "name": "stdout",
     "output_type": "stream",
     "text": [
      "+-------+\n",
      "|i94mode|\n",
      "+-------+\n",
      "|   null|\n",
      "|    1.0|\n",
      "|    2.0|\n",
      "|    3.0|\n",
      "|    9.0|\n",
      "+-------+\n",
      "\n"
     ]
    }
   ],
   "source": [
    "# check if there is any arrival besides airport (i94mode = 1)\n",
    "df_immi.select(\"i94mode\").dropDuplicates().sort(\"i94mode\").show()"
   ]
  },
  {
   "cell_type": "code",
   "execution_count": 8,
   "metadata": {
    "editable": true
   },
   "outputs": [
    {
     "name": "stdout",
     "output_type": "stream",
     "text": [
      "3574989\n",
      "3574989\n"
     ]
    }
   ],
   "source": [
    "# Check if there is any duplicated row in the dataset, by counting unique row values\n",
    "print(df_immi.count())\n",
    "print(df_immi.dropDuplicates().count())"
   ]
  },
  {
   "cell_type": "markdown",
   "metadata": {
    "editable": true
   },
   "source": [
    "###### Findings\n",
    "- There are no duplicated rows\n",
    "- There are columns with null values, like i94mode, i94addr, depdate and gender\n",
    "- Column i94mode has values besides 1\n",
    "- Columns like cicid, i94cit, visapost, dtadfile, dentdepa and entdepd sound not relevant to the project\n",
    "- Columns like i94yr, i94mon, i94port, arrdate, i94mode, i94addr, depdate, biryear, gender, visatype can be more descriptive to the project\n",
    "- Columns with numerical values as 'double' type, that are not proper to the project\n",
    "- Columns like i94res and i94visa can have more nominative values"
   ]
  },
  {
   "cell_type": "markdown",
   "metadata": {
    "editable": true
   },
   "source": [
    "__Airport Code Table__ "
   ]
  },
  {
   "cell_type": "code",
   "execution_count": 9,
   "metadata": {
    "editable": true
   },
   "outputs": [
    {
     "name": "stdout",
     "output_type": "stream",
     "text": [
      "root\n",
      " |-- ident: string (nullable = true)\n",
      " |-- type: string (nullable = true)\n",
      " |-- name: string (nullable = true)\n",
      " |-- elevation_ft: string (nullable = true)\n",
      " |-- continent: string (nullable = true)\n",
      " |-- iso_country: string (nullable = true)\n",
      " |-- iso_region: string (nullable = true)\n",
      " |-- municipality: string (nullable = true)\n",
      " |-- gps_code: string (nullable = true)\n",
      " |-- iata_code: string (nullable = true)\n",
      " |-- local_code: string (nullable = true)\n",
      " |-- coordinates: string (nullable = true)\n",
      "\n"
     ]
    }
   ],
   "source": [
    "df_airport.printSchema()"
   ]
  },
  {
   "cell_type": "code",
   "execution_count": 10,
   "metadata": {
    "editable": true
   },
   "outputs": [
    {
     "data": {
      "text/html": [
       "<div>\n",
       "<style scoped>\n",
       "    .dataframe tbody tr th:only-of-type {\n",
       "        vertical-align: middle;\n",
       "    }\n",
       "\n",
       "    .dataframe tbody tr th {\n",
       "        vertical-align: top;\n",
       "    }\n",
       "\n",
       "    .dataframe thead th {\n",
       "        text-align: right;\n",
       "    }\n",
       "</style>\n",
       "<table border=\"1\" class=\"dataframe\">\n",
       "  <thead>\n",
       "    <tr style=\"text-align: right;\">\n",
       "      <th></th>\n",
       "      <th>ident</th>\n",
       "      <th>type</th>\n",
       "      <th>name</th>\n",
       "      <th>elevation_ft</th>\n",
       "      <th>continent</th>\n",
       "      <th>iso_country</th>\n",
       "      <th>iso_region</th>\n",
       "      <th>municipality</th>\n",
       "      <th>gps_code</th>\n",
       "      <th>iata_code</th>\n",
       "      <th>local_code</th>\n",
       "      <th>coordinates</th>\n",
       "    </tr>\n",
       "  </thead>\n",
       "  <tbody>\n",
       "    <tr>\n",
       "      <th>0</th>\n",
       "      <td>00A</td>\n",
       "      <td>heliport</td>\n",
       "      <td>Total Rf Heliport</td>\n",
       "      <td>11</td>\n",
       "      <td>NA</td>\n",
       "      <td>US</td>\n",
       "      <td>US-PA</td>\n",
       "      <td>Bensalem</td>\n",
       "      <td>00A</td>\n",
       "      <td>None</td>\n",
       "      <td>00A</td>\n",
       "      <td>-74.93360137939453, 40.07080078125</td>\n",
       "    </tr>\n",
       "    <tr>\n",
       "      <th>1</th>\n",
       "      <td>00AA</td>\n",
       "      <td>small_airport</td>\n",
       "      <td>Aero B Ranch Airport</td>\n",
       "      <td>3435</td>\n",
       "      <td>NA</td>\n",
       "      <td>US</td>\n",
       "      <td>US-KS</td>\n",
       "      <td>Leoti</td>\n",
       "      <td>00AA</td>\n",
       "      <td>None</td>\n",
       "      <td>00AA</td>\n",
       "      <td>-101.473911, 38.704022</td>\n",
       "    </tr>\n",
       "    <tr>\n",
       "      <th>2</th>\n",
       "      <td>00AK</td>\n",
       "      <td>small_airport</td>\n",
       "      <td>Lowell Field</td>\n",
       "      <td>450</td>\n",
       "      <td>NA</td>\n",
       "      <td>US</td>\n",
       "      <td>US-AK</td>\n",
       "      <td>Anchor Point</td>\n",
       "      <td>00AK</td>\n",
       "      <td>None</td>\n",
       "      <td>00AK</td>\n",
       "      <td>-151.695999146, 59.94919968</td>\n",
       "    </tr>\n",
       "    <tr>\n",
       "      <th>3</th>\n",
       "      <td>00AL</td>\n",
       "      <td>small_airport</td>\n",
       "      <td>Epps Airpark</td>\n",
       "      <td>820</td>\n",
       "      <td>NA</td>\n",
       "      <td>US</td>\n",
       "      <td>US-AL</td>\n",
       "      <td>Harvest</td>\n",
       "      <td>00AL</td>\n",
       "      <td>None</td>\n",
       "      <td>00AL</td>\n",
       "      <td>-86.77030181884766, 34.86479949951172</td>\n",
       "    </tr>\n",
       "    <tr>\n",
       "      <th>4</th>\n",
       "      <td>00AR</td>\n",
       "      <td>closed</td>\n",
       "      <td>Newport Hospital &amp; Clinic Heliport</td>\n",
       "      <td>237</td>\n",
       "      <td>NA</td>\n",
       "      <td>US</td>\n",
       "      <td>US-AR</td>\n",
       "      <td>Newport</td>\n",
       "      <td>None</td>\n",
       "      <td>None</td>\n",
       "      <td>None</td>\n",
       "      <td>-91.254898, 35.6087</td>\n",
       "    </tr>\n",
       "  </tbody>\n",
       "</table>\n",
       "</div>"
      ],
      "text/plain": [
       "  ident           type                                name elevation_ft  \\\n",
       "0   00A       heliport                   Total Rf Heliport           11   \n",
       "1  00AA  small_airport                Aero B Ranch Airport         3435   \n",
       "2  00AK  small_airport                        Lowell Field          450   \n",
       "3  00AL  small_airport                        Epps Airpark          820   \n",
       "4  00AR         closed  Newport Hospital & Clinic Heliport          237   \n",
       "\n",
       "  continent iso_country iso_region  municipality gps_code iata_code  \\\n",
       "0        NA          US      US-PA      Bensalem      00A      None   \n",
       "1        NA          US      US-KS         Leoti     00AA      None   \n",
       "2        NA          US      US-AK  Anchor Point     00AK      None   \n",
       "3        NA          US      US-AL       Harvest     00AL      None   \n",
       "4        NA          US      US-AR       Newport     None      None   \n",
       "\n",
       "  local_code                            coordinates  \n",
       "0        00A     -74.93360137939453, 40.07080078125  \n",
       "1       00AA                 -101.473911, 38.704022  \n",
       "2       00AK            -151.695999146, 59.94919968  \n",
       "3       00AL  -86.77030181884766, 34.86479949951172  \n",
       "4       None                    -91.254898, 35.6087  "
      ]
     },
     "execution_count": 10,
     "metadata": {},
     "output_type": "execute_result"
    }
   ],
   "source": [
    "# view data into a dataframe\n",
    "spark_to_pandas(df_airport.take(5))"
   ]
  },
  {
   "cell_type": "code",
   "execution_count": 11,
   "metadata": {
    "editable": true
   },
   "outputs": [
    {
     "name": "stdout",
     "output_type": "stream",
     "text": [
      "+-----------+\n",
      "|iso_country|\n",
      "+-----------+\n",
      "|         AD|\n",
      "|         AE|\n",
      "|         AF|\n",
      "|         AG|\n",
      "|         AI|\n",
      "|         AL|\n",
      "|         AM|\n",
      "|         AO|\n",
      "|         AQ|\n",
      "|         AR|\n",
      "|         AS|\n",
      "|         AT|\n",
      "|         AU|\n",
      "|         AW|\n",
      "|         AZ|\n",
      "|         BA|\n",
      "|         BB|\n",
      "|         BD|\n",
      "|         BE|\n",
      "|         BF|\n",
      "+-----------+\n",
      "only showing top 20 rows\n",
      "\n"
     ]
    }
   ],
   "source": [
    "# check if there is iso_country besides US\n",
    "df_airport.select(\"iso_country\").dropDuplicates().sort(\"iso_country\").show()"
   ]
  },
  {
   "cell_type": "code",
   "execution_count": 12,
   "metadata": {
    "editable": true
   },
   "outputs": [
    {
     "name": "stdout",
     "output_type": "stream",
     "text": [
      "+-----------------+\n",
      "|     municipality|\n",
      "+-----------------+\n",
      "|             null|\n",
      "|  'S Gravenvoeren|\n",
      "|         108 Mile|\n",
      "|         3 Marias|\n",
      "|         ;ifi,bwe|\n",
      "|           <Olmos|\n",
      "|       A. IbaÃ±ez|\n",
      "|           Aachen|\n",
      "|          Aalborg|\n",
      "|            Aalen|\n",
      "|            Aalst|\n",
      "|Aamby Valley City|\n",
      "|        Aarbergen|\n",
      "|           Aarhus|\n",
      "|             Aars|\n",
      "|          Aasiaat|\n",
      "|              Aba|\n",
      "|           Abadan|\n",
      "|           Abadeh|\n",
      "|          AbaetÃ©|\n",
      "+-----------------+\n",
      "only showing top 20 rows\n",
      "\n"
     ]
    }
   ],
   "source": [
    "# check if there are nulls in the municipality \n",
    "df_airport.select(\"municipality\").dropDuplicates().sort(\"municipality\").show()"
   ]
  },
  {
   "cell_type": "code",
   "execution_count": 13,
   "metadata": {
    "editable": true
   },
   "outputs": [
    {
     "name": "stdout",
     "output_type": "stream",
     "text": [
      "+--------------+\n",
      "|          type|\n",
      "+--------------+\n",
      "|   balloonport|\n",
      "|        closed|\n",
      "|      heliport|\n",
      "| large_airport|\n",
      "|medium_airport|\n",
      "| seaplane_base|\n",
      "| small_airport|\n",
      "+--------------+\n",
      "\n"
     ]
    }
   ],
   "source": [
    "# check if there are airports not relevant to car rental company\n",
    "df_airport.select(\"type\").dropDuplicates().sort(\"type\").show()"
   ]
  },
  {
   "cell_type": "code",
   "execution_count": 14,
   "metadata": {
    "editable": true
   },
   "outputs": [
    {
     "name": "stdout",
     "output_type": "stream",
     "text": [
      "55075\n",
      "55075\n"
     ]
    }
   ],
   "source": [
    "# Check if there is any duplicated row in the dataset, by counting unique row values\n",
    "print(df_airport.count())\n",
    "print(df_airport.dropDuplicates().count())"
   ]
  },
  {
   "cell_type": "markdown",
   "metadata": {
    "editable": true
   },
   "source": [
    "###### Findings\n",
    "- There are no duplicated rows\n",
    "- There are columns with null values, like iata_code\n",
    "- Column iso_country has values besides \"US\"\n",
    "- Columns with numerical values as 'string' type, that are not proper to the project\n",
    "- Column type has values closed, heliport and seaplane_base, where car rental can't operate\n",
    "- Column municipality has null values"
   ]
  },
  {
   "cell_type": "markdown",
   "metadata": {
    "editable": true
   },
   "source": [
    "#### Cleaning Steps\n",
    "- Drop rows with values different than air arrival (i94mode = 1)\n",
    "- Drop columns from datasets that are not relevant to the project\n",
    "- Rename columns to make them more descriptive and standardized\n",
    "- Fix columns data types as noted before\n",
    "- Convert i94res column numbers into country of origin names\n",
    "- Convert i94visa column numbers into travel reason names\n",
    "- Remove nulls and drop any duplicates"
   ]
  },
  {
   "cell_type": "markdown",
   "metadata": {
    "editable": true
   },
   "source": [
    "__I94 Immigration Data__"
   ]
  },
  {
   "cell_type": "code",
   "execution_count": 15,
   "metadata": {
    "editable": true
   },
   "outputs": [],
   "source": [
    "# select only people who came by plane -> i94mode==1\n",
    "df_immi = df_immi[df_immi['i94mode']==1]"
   ]
  },
  {
   "cell_type": "code",
   "execution_count": 16,
   "metadata": {
    "editable": true
   },
   "outputs": [],
   "source": [
    "# select relevant columns to the project\n",
    "df_immi = df_immi['i94yr', 'i94mon', 'i94res','i94port', 'i94addr', 'i94visa', 'arrdate', 'depdate', 'biryear', 'gender','admnum']"
   ]
  },
  {
   "cell_type": "code",
   "execution_count": 17,
   "metadata": {
    "editable": true
   },
   "outputs": [
    {
     "name": "stdout",
     "output_type": "stream",
     "text": [
      "+------+------+------+-------+-------+-------+-------+-------+-------+------+--------------+\n",
      "| i94yr|i94mon|i94res|i94port|i94addr|i94visa|arrdate|depdate|biryear|gender|        admnum|\n",
      "+------+------+------+-------+-------+-------+-------+-------+-------+------+--------------+\n",
      "|2016.0|   6.0| 276.0|    SFR|     CA|    3.0|20623.0|   null| 1994.0|     F|8.432352323E10|\n",
      "|2016.0|   6.0| 276.0|    SFR|     CA|    3.0|20623.0|   null| 1989.0|     M|8.694424303E10|\n",
      "|2016.0|   6.0| 127.0|    HOU|   null|    2.0|20617.0|20679.0| 1973.0|     M|9.238008823E10|\n",
      "|2016.0|   6.0| 127.0|    HOU|     TX|    2.0|20617.0|20679.0| 1947.0|     F|9.237990593E10|\n",
      "|2016.0|   6.0| 101.0|    BOS|     MA|    1.0|20606.0|20608.0| 1985.0|  null|9.790576503E10|\n",
      "+------+------+------+-------+-------+-------+-------+-------+-------+------+--------------+\n",
      "only showing top 5 rows\n",
      "\n"
     ]
    }
   ],
   "source": [
    "df_immi.show(5)"
   ]
  },
  {
   "cell_type": "code",
   "execution_count": 18,
   "metadata": {
    "editable": true
   },
   "outputs": [],
   "source": [
    "# drop missing values from columns\n",
    "df_immi = df_immi.dropna(subset=['i94yr', 'i94mon', 'i94res','i94port', 'i94addr', 'i94visa', 'arrdate', 'depdate', 'biryear', 'gender', 'admnum'])"
   ]
  },
  {
   "cell_type": "code",
   "execution_count": 19,
   "metadata": {
    "editable": true
   },
   "outputs": [],
   "source": [
    "# rename columns\n",
    "df_immi = df_immi.withColumnRenamed(\"i94yr\", \"year\") \\\n",
    "                 .withColumnRenamed(\"i94mon\", \"month\") \\\n",
    "                 .withColumnRenamed(\"i94res\", \"origin_country\") \\\n",
    "                 .withColumnRenamed(\"i94port\", \"airport_code\") \\\n",
    "                 .withColumnRenamed(\"i94addr\", \"state_code\") \\\n",
    "                 .withColumnRenamed(\"i94visa\", \"travel_reason\") \\\n",
    "                 .withColumnRenamed(\"biryear\", \"birth_year\") \\\n",
    "                 .withColumnRenamed(\"admnum\", \"admission_number\") "
   ]
  },
  {
   "cell_type": "code",
   "execution_count": 20,
   "metadata": {
    "editable": true
   },
   "outputs": [],
   "source": [
    "# convet columns values using country_udf and visa_code_udf created with data from i94 SAS labels Descriptions file.\n",
    "df_immi=df_immi\\\n",
    ".withColumn(\"origin_country\",country_udf(df_immi[\"origin_country\"]))\\\n",
    ".withColumn(\"travel_reason\",visa_code_udf(df_immi[\"travel_reason\"]))"
   ]
  },
  {
   "cell_type": "code",
   "execution_count": 21,
   "metadata": {
    "editable": true
   },
   "outputs": [
    {
     "name": "stdout",
     "output_type": "stream",
     "text": [
      "+------+-----+--------------+------------+----------+-------------+----------+------+----------------+-------------+\n",
      "|  year|month|origin_country|airport_code|state_code|travel_reason|birth_year|gender|admission_number|stay_duration|\n",
      "+------+-----+--------------+------------+----------+-------------+----------+------+----------------+-------------+\n",
      "|2016.0|  6.0|       ROMANIA|         HOU|        TX|     Pleasure|    1947.0|     F|  9.237990593E10|         62.0|\n",
      "|2016.0|  6.0|       ALBANIA|         NEW|        PA|     Pleasure|    1964.0|     F|   1.117456185E9|         33.0|\n",
      "|2016.0|  6.0|       ALBANIA|         BOS|        MA|     Pleasure|    1989.0|     F|  9.794448313E10|         26.0|\n",
      "|2016.0|  6.0|       ALBANIA|         BOS|        MA|     Pleasure|    1955.0|     F|  9.794688673E10|         91.0|\n",
      "|2016.0|  6.0|       ALBANIA|         WAS|        VA|     Pleasure|    1962.0|     F|  9.794752923E10|         85.0|\n",
      "+------+-----+--------------+------------+----------+-------------+----------+------+----------------+-------------+\n",
      "only showing top 5 rows\n",
      "\n"
     ]
    }
   ],
   "source": [
    "# replace arrdate and depdate columns with stay_duration column\n",
    "date_converter = F.udf(lambda x: datetime.fromordinal(x), T.DateType())\n",
    "df_immi = df_immi.withColumn(\"stay_duration\", (F.col(\"depdate\") - F.col(\"arrdate\")))\n",
    "df_immi = df_immi.drop(\"depdate\").drop(\"arrdate\")\n",
    "df_immi.show(5)"
   ]
  },
  {
   "cell_type": "code",
   "execution_count": 22,
   "metadata": {
    "editable": true
   },
   "outputs": [
    {
     "name": "stdout",
     "output_type": "stream",
     "text": [
      "root\n",
      " |-- year: double (nullable = true)\n",
      " |-- month: double (nullable = true)\n",
      " |-- origin_country: string (nullable = true)\n",
      " |-- airport_code: string (nullable = true)\n",
      " |-- state_code: string (nullable = true)\n",
      " |-- travel_reason: string (nullable = true)\n",
      " |-- birth_year: double (nullable = true)\n",
      " |-- gender: string (nullable = true)\n",
      " |-- admission_number: double (nullable = true)\n",
      " |-- stay_duration: double (nullable = true)\n",
      "\n"
     ]
    }
   ],
   "source": [
    "# check datatypes\n",
    "df_immi.printSchema()"
   ]
  },
  {
   "cell_type": "code",
   "execution_count": 23,
   "metadata": {
    "editable": true
   },
   "outputs": [],
   "source": [
    "# Fix data types\n",
    "df_immi=df_immi.withColumn(\"year\", col(\"year\").cast(\"integer\"))\\\n",
    "               .withColumn(\"month\", col(\"month\").cast(\"integer\"))\\\n",
    "               .withColumn(\"birth_year\", col(\"birth_year\").cast(\"integer\"))\\\n",
    "               .withColumn(\"admission_number\", col(\"admission_number\").cast(\"bigint\")) \\\n",
    "               .withColumn(\"stay_duration\", col(\"stay_duration\").cast(\"integer\"))"
   ]
  },
  {
   "cell_type": "code",
   "execution_count": 24,
   "metadata": {
    "editable": true
   },
   "outputs": [],
   "source": [
    "#drop duplicates\n",
    "df_immi = df_immi.dropDuplicates()"
   ]
  },
  {
   "cell_type": "code",
   "execution_count": 25,
   "metadata": {
    "editable": true
   },
   "outputs": [
    {
     "name": "stdout",
     "output_type": "stream",
     "text": [
      "2536793\n",
      "+----+-----+--------------+------------+----------+-------------+----------+------+----------------+-------------+\n",
      "|year|month|origin_country|airport_code|state_code|travel_reason|birth_year|gender|admission_number|stay_duration|\n",
      "+----+-----+--------------+------------+----------+-------------+----------+------+----------------+-------------+\n",
      "|2016|    6|       BELGIUM|         NYC|        NY|     Business|      1968|     M|     61300969733|            8|\n",
      "|2016|    6|       BELGIUM|         NYC|        NY|     Business|      1964|     F|     61337302733|           14|\n",
      "|2016|    6|       BELGIUM|         SFR|        CA|     Business|      1979|     M|     97925165330|            7|\n",
      "|2016|    6|      BULGARIA|         CIN|        KY|     Pleasure|      1961|     F|     97931772730|           85|\n",
      "|2016|    6|        POLAND|         CHI|        IL|     Pleasure|      1951|     M|     97954536230|            6|\n",
      "+----+-----+--------------+------------+----------+-------------+----------+------+----------------+-------------+\n",
      "only showing top 5 rows\n",
      "\n"
     ]
    }
   ],
   "source": [
    "# check new dataframe\n",
    "print(df_immi.count())\n",
    "df_immi.show(5)"
   ]
  },
  {
   "cell_type": "markdown",
   "metadata": {
    "editable": true
   },
   "source": [
    "__Airport Code Table__ "
   ]
  },
  {
   "cell_type": "markdown",
   "metadata": {
    "editable": true
   },
   "source": [
    "Since in the immigration data only airports with an international airport code are given, any rows without an iata code will be removed code from the airport table."
   ]
  },
  {
   "cell_type": "code",
   "execution_count": 26,
   "metadata": {
    "editable": true
   },
   "outputs": [],
   "source": [
    "# drop all rows without an IATA code\n",
    "df_airport = df_airport.dropna(subset=[\"iata_code\"])"
   ]
  },
  {
   "cell_type": "code",
   "execution_count": 27,
   "metadata": {
    "editable": true
   },
   "outputs": [],
   "source": [
    "# select only data from US \n",
    "df_airport = df_airport[df_airport['iso_country']==\"US\"]"
   ]
  },
  {
   "cell_type": "code",
   "execution_count": 28,
   "metadata": {
    "editable": true
   },
   "outputs": [],
   "source": [
    "# select only data from \"small_airport\", \"medium_airport\", \"large_airport\"\n",
    "df_airport = df_airport[df_airport['type'].isin([\"small_airport\", \"medium_airport\", \"large_airport\"])]"
   ]
  },
  {
   "cell_type": "code",
   "execution_count": 29,
   "metadata": {
    "editable": true
   },
   "outputs": [
    {
     "name": "stdout",
     "output_type": "stream",
     "text": [
      "+--------------+\n",
      "|          type|\n",
      "+--------------+\n",
      "| large_airport|\n",
      "|medium_airport|\n",
      "| small_airport|\n",
      "+--------------+\n",
      "\n"
     ]
    }
   ],
   "source": [
    "# Check if the airport types were updated\n",
    "df_airport.select(\"type\").dropDuplicates().sort(\"type\").show()"
   ]
  },
  {
   "cell_type": "code",
   "execution_count": 30,
   "metadata": {
    "editable": true
   },
   "outputs": [
    {
     "data": {
      "text/html": [
       "<div>\n",
       "<style scoped>\n",
       "    .dataframe tbody tr th:only-of-type {\n",
       "        vertical-align: middle;\n",
       "    }\n",
       "\n",
       "    .dataframe tbody tr th {\n",
       "        vertical-align: top;\n",
       "    }\n",
       "\n",
       "    .dataframe thead th {\n",
       "        text-align: right;\n",
       "    }\n",
       "</style>\n",
       "<table border=\"1\" class=\"dataframe\">\n",
       "  <thead>\n",
       "    <tr style=\"text-align: right;\">\n",
       "      <th></th>\n",
       "      <th>ident</th>\n",
       "      <th>type</th>\n",
       "      <th>name</th>\n",
       "      <th>elevation_ft</th>\n",
       "      <th>continent</th>\n",
       "      <th>iso_country</th>\n",
       "      <th>iso_region</th>\n",
       "      <th>municipality</th>\n",
       "      <th>gps_code</th>\n",
       "      <th>iata_code</th>\n",
       "      <th>local_code</th>\n",
       "      <th>coordinates</th>\n",
       "    </tr>\n",
       "  </thead>\n",
       "  <tbody>\n",
       "    <tr>\n",
       "      <th>0</th>\n",
       "      <td>07FA</td>\n",
       "      <td>small_airport</td>\n",
       "      <td>Ocean Reef Club Airport</td>\n",
       "      <td>8</td>\n",
       "      <td>NA</td>\n",
       "      <td>US</td>\n",
       "      <td>US-FL</td>\n",
       "      <td>Key Largo</td>\n",
       "      <td>07FA</td>\n",
       "      <td>OCA</td>\n",
       "      <td>07FA</td>\n",
       "      <td>-80.274803161621, 25.325399398804</td>\n",
       "    </tr>\n",
       "    <tr>\n",
       "      <th>1</th>\n",
       "      <td>0AK</td>\n",
       "      <td>small_airport</td>\n",
       "      <td>Pilot Station Airport</td>\n",
       "      <td>305</td>\n",
       "      <td>NA</td>\n",
       "      <td>US</td>\n",
       "      <td>US-AK</td>\n",
       "      <td>Pilot Station</td>\n",
       "      <td>None</td>\n",
       "      <td>PQS</td>\n",
       "      <td>0AK</td>\n",
       "      <td>-162.899994, 61.934601</td>\n",
       "    </tr>\n",
       "    <tr>\n",
       "      <th>2</th>\n",
       "      <td>0CO2</td>\n",
       "      <td>small_airport</td>\n",
       "      <td>Crested Butte Airpark</td>\n",
       "      <td>8980</td>\n",
       "      <td>NA</td>\n",
       "      <td>US</td>\n",
       "      <td>US-CO</td>\n",
       "      <td>Crested Butte</td>\n",
       "      <td>0CO2</td>\n",
       "      <td>CSE</td>\n",
       "      <td>0CO2</td>\n",
       "      <td>-106.928341, 38.851918</td>\n",
       "    </tr>\n",
       "    <tr>\n",
       "      <th>3</th>\n",
       "      <td>0TE7</td>\n",
       "      <td>small_airport</td>\n",
       "      <td>LBJ Ranch Airport</td>\n",
       "      <td>1515</td>\n",
       "      <td>NA</td>\n",
       "      <td>US</td>\n",
       "      <td>US-TX</td>\n",
       "      <td>Johnson City</td>\n",
       "      <td>0TE7</td>\n",
       "      <td>JCY</td>\n",
       "      <td>0TE7</td>\n",
       "      <td>-98.62249755859999, 30.251800537100003</td>\n",
       "    </tr>\n",
       "    <tr>\n",
       "      <th>4</th>\n",
       "      <td>13MA</td>\n",
       "      <td>small_airport</td>\n",
       "      <td>Metropolitan Airport</td>\n",
       "      <td>418</td>\n",
       "      <td>NA</td>\n",
       "      <td>US</td>\n",
       "      <td>US-MA</td>\n",
       "      <td>Palmer</td>\n",
       "      <td>13MA</td>\n",
       "      <td>PMX</td>\n",
       "      <td>13MA</td>\n",
       "      <td>-72.31140136719999, 42.223300933800004</td>\n",
       "    </tr>\n",
       "  </tbody>\n",
       "</table>\n",
       "</div>"
      ],
      "text/plain": [
       "  ident           type                     name elevation_ft continent  \\\n",
       "0  07FA  small_airport  Ocean Reef Club Airport            8        NA   \n",
       "1   0AK  small_airport    Pilot Station Airport          305        NA   \n",
       "2  0CO2  small_airport    Crested Butte Airpark         8980        NA   \n",
       "3  0TE7  small_airport        LBJ Ranch Airport         1515        NA   \n",
       "4  13MA  small_airport     Metropolitan Airport          418        NA   \n",
       "\n",
       "  iso_country iso_region   municipality gps_code iata_code local_code  \\\n",
       "0          US      US-FL      Key Largo     07FA       OCA       07FA   \n",
       "1          US      US-AK  Pilot Station     None       PQS        0AK   \n",
       "2          US      US-CO  Crested Butte     0CO2       CSE       0CO2   \n",
       "3          US      US-TX   Johnson City     0TE7       JCY       0TE7   \n",
       "4          US      US-MA         Palmer     13MA       PMX       13MA   \n",
       "\n",
       "                              coordinates  \n",
       "0       -80.274803161621, 25.325399398804  \n",
       "1                  -162.899994, 61.934601  \n",
       "2                  -106.928341, 38.851918  \n",
       "3  -98.62249755859999, 30.251800537100003  \n",
       "4  -72.31140136719999, 42.223300933800004  "
      ]
     },
     "execution_count": 30,
     "metadata": {},
     "output_type": "execute_result"
    }
   ],
   "source": [
    "# view dataframe\n",
    "spark_to_pandas(df_airport.take(5))"
   ]
  },
  {
   "cell_type": "code",
   "execution_count": 31,
   "metadata": {
    "editable": true
   },
   "outputs": [],
   "source": [
    "# select relevant columns to the project\n",
    "df_airport = df_airport['type', 'name', 'elevation_ft', 'municipality', 'iata_code']"
   ]
  },
  {
   "cell_type": "code",
   "execution_count": 32,
   "metadata": {
    "editable": true
   },
   "outputs": [
    {
     "name": "stdout",
     "output_type": "stream",
     "text": [
      "root\n",
      " |-- type: string (nullable = true)\n",
      " |-- name: string (nullable = true)\n",
      " |-- elevation_ft: float (nullable = true)\n",
      " |-- municipality: string (nullable = true)\n",
      " |-- iata_code: string (nullable = true)\n",
      "\n"
     ]
    }
   ],
   "source": [
    "# fix data types\n",
    "df_airport=df_airport\\\n",
    ".withColumn(\"elevation_ft\", col(\"elevation_ft\").cast(\"float\"))\n",
    "df_airport.printSchema()"
   ]
  },
  {
   "cell_type": "code",
   "execution_count": 33,
   "metadata": {
    "editable": true
   },
   "outputs": [],
   "source": [
    "# rename columns\n",
    "df_airport = df_airport.withColumnRenamed(\"name\", \"airport_name\") \\\n",
    "                       .withColumnRenamed(\"municipality\", \"city\") \\\n",
    "                       .withColumnRenamed(\"iata_code\", \"airport_code\") "
   ]
  },
  {
   "cell_type": "code",
   "execution_count": 34,
   "metadata": {
    "editable": true
   },
   "outputs": [],
   "source": [
    "# drop null values\n",
    "df_airpot = df_airport.dropna(subset=['airport_name', 'elevation_ft', 'city','airport_code'])"
   ]
  },
  {
   "cell_type": "code",
   "execution_count": 35,
   "metadata": {
    "editable": true
   },
   "outputs": [],
   "source": [
    "# drop duplicated rows\n",
    "df_airport = df_airport.dropDuplicates()"
   ]
  },
  {
   "cell_type": "code",
   "execution_count": 36,
   "metadata": {
    "editable": true
   },
   "outputs": [
    {
     "name": "stdout",
     "output_type": "stream",
     "text": [
      "1865\n",
      "+--------------+--------------------+------------+-------------+------------+\n",
      "|          type|        airport_name|elevation_ft|         city|airport_code|\n",
      "+--------------+--------------------+------------+-------------+------------+\n",
      "| small_airport|Pilot Station Air...|       305.0|Pilot Station|         PQS|\n",
      "| small_airport|       Lampson Field|      1379.0|     Lakeport|         CKE|\n",
      "|medium_airport|Alamogordo White ...|      4200.0|   Alamogordo|         ALM|\n",
      "| large_airport|Baltimore/Washing...|       146.0|    Baltimore|         BWI|\n",
      "| small_airport|Clinton Sherman A...|      1922.0|      Clinton|         CSM|\n",
      "+--------------+--------------------+------------+-------------+------------+\n",
      "only showing top 5 rows\n",
      "\n"
     ]
    }
   ],
   "source": [
    "#  View new dataframe\n",
    "print(df_airport.count())\n",
    "df_airport.show(5)"
   ]
  },
  {
   "cell_type": "markdown",
   "metadata": {
    "editable": true
   },
   "source": [
    "### Step 3: Define the Data Model\n",
    "#### 3.1 Conceptual Data Model\n",
    "Mapping out the conceptual data model and explain it "
   ]
  },
  {
   "cell_type": "markdown",
   "metadata": {
    "editable": true
   },
   "source": [
    " The data model is a __star schema__ with a fact table (tourist_arrivals) and two dimension tables (immigration and airports) that can be joined onto it. Possible JOINs are indicated with -> other_table.column_name.\n",
    " \n",
    "This schema was chosen because of it's simple to build, visualize and to perform queries to make data analytics the car rental company needs.\n",
    "\n",
    "\n",
    "__Fact Table__  \n",
    "\n",
    "tourist_arrivals:\n",
    "- year\n",
    "- month\n",
    "- airport_code\n",
    "- admission_number\n",
    "- travel_reason\n",
    "- stay_duration\n",
    "\n",
    "__Dimension Tables__  \n",
    "\n",
    "immigration:\n",
    "- year\n",
    "- month\n",
    "- admission_number >> tourist_arrivals.admission_number\n",
    "- origin_country\n",
    "- airport_code\n",
    "- state_code\n",
    "- travel_reason\n",
    "- birth_year\n",
    "- gender\n",
    "- stay_duration\n",
    "\n",
    "\n",
    "airports:\n",
    "- airport_name\n",
    "- airpot_code >> tourist_arrivals.airport_code\n",
    "- type\n",
    "- city\n",
    "- state_code\n",
    "- elevation_ft"
   ]
  },
  {
   "cell_type": "markdown",
   "metadata": {
    "editable": true
   },
   "source": [
    "#### 3.2 Mapping Out Data Pipelines\n",
    "Listing the steps necessary to pipeline the data into the chosen data model\n",
    "- Clean the data on nulls, data types, duplicates, relevance, etc\n",
    "- Create immigration and airports dimension tables respecivaly from df_immi and df_airport\n",
    "- Create air_arrivals fact table from df_immi \n",
    "- Save processed dimension and fact tables in parquet for query"
   ]
  },
  {
   "cell_type": "markdown",
   "metadata": {
    "editable": true
   },
   "source": [
    "### Step 4: Run Pipelines to Model the Data \n",
    "#### 4.1 Create the data model\n",
    "Build the data pipelines to create the data model."
   ]
  },
  {
   "cell_type": "code",
   "execution_count": 37,
   "metadata": {
    "editable": true
   },
   "outputs": [],
   "source": [
    "# Create immigration dimension table \n",
    "immigration = df_immi.select(\"year\",\n",
    "                             \"month\",\n",
    "                             \"admission_number\",\n",
    "                             \"origin_country\",\n",
    "                             \"airport_code\",\n",
    "                             \"state_code\",\n",
    "                             \"travel_reason\",\n",
    "                             \"birth_year\",\n",
    "                             \"gender\",\n",
    "                             \"stay_duration\"\n",
    "                             ).drop_duplicates()"
   ]
  },
  {
   "cell_type": "code",
   "execution_count": 38,
   "metadata": {
    "editable": true
   },
   "outputs": [
    {
     "data": {
      "text/html": [
       "<div>\n",
       "<style scoped>\n",
       "    .dataframe tbody tr th:only-of-type {\n",
       "        vertical-align: middle;\n",
       "    }\n",
       "\n",
       "    .dataframe tbody tr th {\n",
       "        vertical-align: top;\n",
       "    }\n",
       "\n",
       "    .dataframe thead th {\n",
       "        text-align: right;\n",
       "    }\n",
       "</style>\n",
       "<table border=\"1\" class=\"dataframe\">\n",
       "  <thead>\n",
       "    <tr style=\"text-align: right;\">\n",
       "      <th></th>\n",
       "      <th>year</th>\n",
       "      <th>month</th>\n",
       "      <th>admission_number</th>\n",
       "      <th>origin_country</th>\n",
       "      <th>airport_code</th>\n",
       "      <th>state_code</th>\n",
       "      <th>travel_reason</th>\n",
       "      <th>birth_year</th>\n",
       "      <th>gender</th>\n",
       "      <th>stay_duration</th>\n",
       "    </tr>\n",
       "  </thead>\n",
       "  <tbody>\n",
       "    <tr>\n",
       "      <th>0</th>\n",
       "      <td>2016</td>\n",
       "      <td>6</td>\n",
       "      <td>61300969733</td>\n",
       "      <td>BELGIUM</td>\n",
       "      <td>NYC</td>\n",
       "      <td>NY</td>\n",
       "      <td>Business</td>\n",
       "      <td>1968</td>\n",
       "      <td>M</td>\n",
       "      <td>8</td>\n",
       "    </tr>\n",
       "    <tr>\n",
       "      <th>1</th>\n",
       "      <td>2016</td>\n",
       "      <td>6</td>\n",
       "      <td>61337302733</td>\n",
       "      <td>BELGIUM</td>\n",
       "      <td>NYC</td>\n",
       "      <td>NY</td>\n",
       "      <td>Business</td>\n",
       "      <td>1964</td>\n",
       "      <td>F</td>\n",
       "      <td>14</td>\n",
       "    </tr>\n",
       "    <tr>\n",
       "      <th>2</th>\n",
       "      <td>2016</td>\n",
       "      <td>6</td>\n",
       "      <td>97925165330</td>\n",
       "      <td>BELGIUM</td>\n",
       "      <td>SFR</td>\n",
       "      <td>CA</td>\n",
       "      <td>Business</td>\n",
       "      <td>1979</td>\n",
       "      <td>M</td>\n",
       "      <td>7</td>\n",
       "    </tr>\n",
       "    <tr>\n",
       "      <th>3</th>\n",
       "      <td>2016</td>\n",
       "      <td>6</td>\n",
       "      <td>97931772730</td>\n",
       "      <td>BULGARIA</td>\n",
       "      <td>CIN</td>\n",
       "      <td>KY</td>\n",
       "      <td>Pleasure</td>\n",
       "      <td>1961</td>\n",
       "      <td>F</td>\n",
       "      <td>85</td>\n",
       "    </tr>\n",
       "    <tr>\n",
       "      <th>4</th>\n",
       "      <td>2016</td>\n",
       "      <td>6</td>\n",
       "      <td>97954536230</td>\n",
       "      <td>POLAND</td>\n",
       "      <td>CHI</td>\n",
       "      <td>IL</td>\n",
       "      <td>Pleasure</td>\n",
       "      <td>1951</td>\n",
       "      <td>M</td>\n",
       "      <td>6</td>\n",
       "    </tr>\n",
       "  </tbody>\n",
       "</table>\n",
       "</div>"
      ],
      "text/plain": [
       "   year  month  admission_number origin_country airport_code state_code  \\\n",
       "0  2016      6       61300969733        BELGIUM          NYC         NY   \n",
       "1  2016      6       61337302733        BELGIUM          NYC         NY   \n",
       "2  2016      6       97925165330        BELGIUM          SFR         CA   \n",
       "3  2016      6       97931772730       BULGARIA          CIN         KY   \n",
       "4  2016      6       97954536230         POLAND          CHI         IL   \n",
       "\n",
       "  travel_reason  birth_year gender  stay_duration  \n",
       "0      Business        1968      M              8  \n",
       "1      Business        1964      F             14  \n",
       "2      Business        1979      M              7  \n",
       "3      Pleasure        1961      F             85  \n",
       "4      Pleasure        1951      M              6  "
      ]
     },
     "execution_count": 38,
     "metadata": {},
     "output_type": "execute_result"
    }
   ],
   "source": [
    "# View created table\n",
    "spark_to_pandas(immigration.take(5))"
   ]
  },
  {
   "cell_type": "code",
   "execution_count": 40,
   "metadata": {
    "editable": true
   },
   "outputs": [],
   "source": [
    "# Create airport dimension table \n",
    "airports = df_airport.select(\"airport_name\",\n",
    "                             \"airport_code\",\n",
    "                             \"type\",\n",
    "                             \"city\",\n",
    "                             \"elevation_ft\",\n",
    "                             ).drop_duplicates()"
   ]
  },
  {
   "cell_type": "code",
   "execution_count": 41,
   "metadata": {
    "editable": true
   },
   "outputs": [
    {
     "data": {
      "text/html": [
       "<div>\n",
       "<style scoped>\n",
       "    .dataframe tbody tr th:only-of-type {\n",
       "        vertical-align: middle;\n",
       "    }\n",
       "\n",
       "    .dataframe tbody tr th {\n",
       "        vertical-align: top;\n",
       "    }\n",
       "\n",
       "    .dataframe thead th {\n",
       "        text-align: right;\n",
       "    }\n",
       "</style>\n",
       "<table border=\"1\" class=\"dataframe\">\n",
       "  <thead>\n",
       "    <tr style=\"text-align: right;\">\n",
       "      <th></th>\n",
       "      <th>airport_name</th>\n",
       "      <th>airport_code</th>\n",
       "      <th>type</th>\n",
       "      <th>city</th>\n",
       "      <th>elevation_ft</th>\n",
       "    </tr>\n",
       "  </thead>\n",
       "  <tbody>\n",
       "    <tr>\n",
       "      <th>0</th>\n",
       "      <td>Pilot Station Airport</td>\n",
       "      <td>PQS</td>\n",
       "      <td>small_airport</td>\n",
       "      <td>Pilot Station</td>\n",
       "      <td>305.0</td>\n",
       "    </tr>\n",
       "    <tr>\n",
       "      <th>1</th>\n",
       "      <td>Lampson Field</td>\n",
       "      <td>CKE</td>\n",
       "      <td>small_airport</td>\n",
       "      <td>Lakeport</td>\n",
       "      <td>1379.0</td>\n",
       "    </tr>\n",
       "    <tr>\n",
       "      <th>2</th>\n",
       "      <td>Alamogordo White Sands Regional Airport</td>\n",
       "      <td>ALM</td>\n",
       "      <td>medium_airport</td>\n",
       "      <td>Alamogordo</td>\n",
       "      <td>4200.0</td>\n",
       "    </tr>\n",
       "    <tr>\n",
       "      <th>3</th>\n",
       "      <td>Baltimore/Washington International Thurgood Ma...</td>\n",
       "      <td>BWI</td>\n",
       "      <td>large_airport</td>\n",
       "      <td>Baltimore</td>\n",
       "      <td>146.0</td>\n",
       "    </tr>\n",
       "    <tr>\n",
       "      <th>4</th>\n",
       "      <td>Clinton Sherman Airport</td>\n",
       "      <td>CSM</td>\n",
       "      <td>small_airport</td>\n",
       "      <td>Clinton</td>\n",
       "      <td>1922.0</td>\n",
       "    </tr>\n",
       "  </tbody>\n",
       "</table>\n",
       "</div>"
      ],
      "text/plain": [
       "                                        airport_name airport_code  \\\n",
       "0                              Pilot Station Airport          PQS   \n",
       "1                                      Lampson Field          CKE   \n",
       "2            Alamogordo White Sands Regional Airport          ALM   \n",
       "3  Baltimore/Washington International Thurgood Ma...          BWI   \n",
       "4                            Clinton Sherman Airport          CSM   \n",
       "\n",
       "             type           city  elevation_ft  \n",
       "0   small_airport  Pilot Station         305.0  \n",
       "1   small_airport       Lakeport        1379.0  \n",
       "2  medium_airport     Alamogordo        4200.0  \n",
       "3   large_airport      Baltimore         146.0  \n",
       "4   small_airport        Clinton        1922.0  "
      ]
     },
     "execution_count": 41,
     "metadata": {},
     "output_type": "execute_result"
    }
   ],
   "source": [
    "# View created table\n",
    "spark_to_pandas(airports.take(5))"
   ]
  },
  {
   "cell_type": "code",
   "execution_count": 42,
   "metadata": {
    "editable": true
   },
   "outputs": [],
   "source": [
    "# create tourist_arrivals fact table\n",
    "tourist_arrivals = df_immi.select(\"year\", \n",
    "                                  \"month\",\n",
    "                                  \"admission_number\",\n",
    "                                  \"airport_code\", \n",
    "                                  \"travel_reason\",\n",
    "                                  \"stay_duration\").drop_duplicates()"
   ]
  },
  {
   "cell_type": "code",
   "execution_count": 44,
   "metadata": {
    "editable": true
   },
   "outputs": [
    {
     "data": {
      "text/html": [
       "<div>\n",
       "<style scoped>\n",
       "    .dataframe tbody tr th:only-of-type {\n",
       "        vertical-align: middle;\n",
       "    }\n",
       "\n",
       "    .dataframe tbody tr th {\n",
       "        vertical-align: top;\n",
       "    }\n",
       "\n",
       "    .dataframe thead th {\n",
       "        text-align: right;\n",
       "    }\n",
       "</style>\n",
       "<table border=\"1\" class=\"dataframe\">\n",
       "  <thead>\n",
       "    <tr style=\"text-align: right;\">\n",
       "      <th></th>\n",
       "      <th>year</th>\n",
       "      <th>month</th>\n",
       "      <th>admission_number</th>\n",
       "      <th>airport_code</th>\n",
       "      <th>travel_reason</th>\n",
       "      <th>stay_duration</th>\n",
       "    </tr>\n",
       "  </thead>\n",
       "  <tbody>\n",
       "    <tr>\n",
       "      <th>0</th>\n",
       "      <td>2016</td>\n",
       "      <td>6</td>\n",
       "      <td>61336552933</td>\n",
       "      <td>NYC</td>\n",
       "      <td>Pleasure</td>\n",
       "      <td>6</td>\n",
       "    </tr>\n",
       "    <tr>\n",
       "      <th>1</th>\n",
       "      <td>2016</td>\n",
       "      <td>6</td>\n",
       "      <td>97961067530</td>\n",
       "      <td>ORL</td>\n",
       "      <td>Pleasure</td>\n",
       "      <td>30</td>\n",
       "    </tr>\n",
       "    <tr>\n",
       "      <th>2</th>\n",
       "      <td>2016</td>\n",
       "      <td>6</td>\n",
       "      <td>98013697030</td>\n",
       "      <td>BOS</td>\n",
       "      <td>Business</td>\n",
       "      <td>8</td>\n",
       "    </tr>\n",
       "    <tr>\n",
       "      <th>3</th>\n",
       "      <td>2016</td>\n",
       "      <td>6</td>\n",
       "      <td>86913554930</td>\n",
       "      <td>SFR</td>\n",
       "      <td>Pleasure</td>\n",
       "      <td>59</td>\n",
       "    </tr>\n",
       "    <tr>\n",
       "      <th>4</th>\n",
       "      <td>2016</td>\n",
       "      <td>6</td>\n",
       "      <td>61439980333</td>\n",
       "      <td>NYC</td>\n",
       "      <td>Pleasure</td>\n",
       "      <td>4</td>\n",
       "    </tr>\n",
       "  </tbody>\n",
       "</table>\n",
       "</div>"
      ],
      "text/plain": [
       "   year  month  admission_number airport_code travel_reason  stay_duration\n",
       "0  2016      6       61336552933          NYC      Pleasure              6\n",
       "1  2016      6       97961067530          ORL      Pleasure             30\n",
       "2  2016      6       98013697030          BOS      Business              8\n",
       "3  2016      6       86913554930          SFR      Pleasure             59\n",
       "4  2016      6       61439980333          NYC      Pleasure              4"
      ]
     },
     "execution_count": 44,
     "metadata": {},
     "output_type": "execute_result"
    }
   ],
   "source": [
    "# Viwe fact table created\n",
    "spark_to_pandas(tourist_arrivals.take(5))"
   ]
  },
  {
   "cell_type": "code",
   "execution_count": 47,
   "metadata": {
    "editable": true
   },
   "outputs": [],
   "source": [
    "# Create temporary views in the Spark Session in order to query them using simple SQL\n",
    "immigration.createOrReplaceTempView(\"immigration\")\n",
    "airports.createOrReplaceTempView(\"airports\")\n",
    "tourist_arrivals.createOrReplaceTempView(\"tourist_arrivals\")\n",
    "\n",
    "#allow unlimited time for SQL joins and parquet writes.\n",
    "sqlContext.setConf(\"spark.sql.autoBroadcastJoinThreshold\", \"0\")"
   ]
  },
  {
   "cell_type": "code",
   "execution_count": 53,
   "metadata": {
    "editable": true
   },
   "outputs": [],
   "source": [
    "# Write fact and dimenson tables to parquet\n",
    "immigration.write.parquet(\"immigration\")\n",
    "airports.write.parquet(\"airports_parquet\")\n",
    "tourist_arrivals.write.parquet(\"tourist_arrivals\")"
   ]
  },
  {
   "cell_type": "markdown",
   "metadata": {
    "editable": true
   },
   "source": [
    "#### 4.2 Data Quality Checks\n",
    " \n",
    "Run Quality Checks"
   ]
  },
  {
   "cell_type": "code",
   "execution_count": 48,
   "metadata": {
    "editable": true
   },
   "outputs": [
    {
     "name": "stdout",
     "output_type": "stream",
     "text": [
      "data quality check passed\n",
      "dimension tables and fact table exist\n",
      "\n"
     ]
    }
   ],
   "source": [
    "# Perform quality checks to see if tables were created\n",
    "\n",
    "def check_table(df):\n",
    "    if df is not None:\n",
    "        return True\n",
    "    else:\n",
    "        return False\n",
    "        \n",
    "if check_table(immigration) & check_table(airports) & check_table(tourist_arrivals):\n",
    "    print(\"data quality check passed\")\n",
    "    print(\"dimension tables and fact table exist\")\n",
    "    print()\n",
    "else:\n",
    "    print(\"data quality check failed\")\n",
    "    print(\"table missing...\")"
   ]
  },
  {
   "cell_type": "code",
   "execution_count": 49,
   "metadata": {
    "editable": true
   },
   "outputs": [
    {
     "name": "stdout",
     "output_type": "stream",
     "text": [
      "data quality check passed!\n",
      "dimension tables and fact table contain records\n",
      "\n"
     ]
    }
   ],
   "source": [
    "# Perform quality checks to see if tables contain records\n",
    "def table_records(df):\n",
    "    return df.count() != 0 \n",
    "\n",
    "if table_records(immigration) & table_records(airports) & table_records(tourist_arrivals):\n",
    "    print(\"data quality check passed!\")\n",
    "    print(\"dimension tables and fact table contain records\")\n",
    "    print()\n",
    "else:\n",
    "    print(\"data quality check failed!\")\n",
    "    print(\"null records...\")"
   ]
  },
  {
   "cell_type": "markdown",
   "metadata": {
    "editable": true
   },
   "source": [
    "#### 4.3 Data dictionary \n"
   ]
  },
  {
   "cell_type": "markdown",
   "metadata": {
    "editable": true
   },
   "source": [
    "Immigration table\n",
    "\n",
    "- __year:__ integer (nullable = true) > Year of Immigration\n",
    "- __month:__ integer (nullable = true) > Month of Immigration\n",
    "-__admission_number:__ long (nullable = true) > Number of tourist admission at airport\n",
    "- __origin_country:__ string (nullable = true) > Tourist country origin\n",
    "- __airport_code:__ string (nullable = true) > City port code where immigrant entered\n",
    "- __state_code:__ string (nullable = true) > Abbreviated state code\n",
    "- __travel_reason:__ string (nullable = true) > Reason of travel given by the immigrant\n",
    "- __birth_year:__ integer (nullable = true) > Year of birth of tourist\n",
    "- __gender:__ string (nullable = true) > Tourist gender\n",
    "- __stay_duration:__ integer (nullable = true) > Number of days tourist stayed"
   ]
  },
  {
   "cell_type": "markdown",
   "metadata": {
    "editable": true
   },
   "source": [
    "Airport table"
   ]
  },
  {
   "cell_type": "markdown",
   "metadata": {
    "editable": true
   },
   "source": [
    "- __airport_name:__ string (nullable = true) > Name of the airport \n",
    "- __airport_code:__ string (nullable = true) > City port code\n",
    "- __type:__ string (nullable = true) > Type of airport (small, medium or large)\n",
    "- __city:__ string (nullable = true) > City name where the airport is located\n",
    "- __elevation_ft:__ float (nullable = true) > Elevation in feet of the airport"
   ]
  },
  {
   "cell_type": "markdown",
   "metadata": {
    "editable": true
   },
   "source": [
    "Tourist_Arrivals table"
   ]
  },
  {
   "cell_type": "markdown",
   "metadata": {
    "editable": true
   },
   "source": [
    "- __year:__ integer (nullable = true) > Year of Immigration\n",
    "- __month:__ integer (nullable = true) > Month of Immigration\n",
    "- __admission_number:__ long (nullable = true) > Number of tourist admission at airport\n",
    "- __airport_code:__ string (nullable = true) > City port code where immigrant entered\n",
    "- __travel_reason:__ string (nullable = true) > Reason of travel given by the immigrant\n",
    "- __stay_duration:__ integer (nullable = true) Number of days tourist stayed"
   ]
  },
  {
   "cell_type": "markdown",
   "metadata": {
    "editable": true
   },
   "source": [
    "#### 4.4 Query examples from Data Model"
   ]
  },
  {
   "cell_type": "code",
   "execution_count": 51,
   "metadata": {
    "editable": true
   },
   "outputs": [],
   "source": [
    "# This query will count air_arrivals and calculate their average stay duration and\n",
    "# group by airport and travel reason, using only fact table\n",
    "count_air_arrivals=spark.sql(\"\"\"SELECT airport_code, travel_reason,\n",
    "                                    COUNT(admission_number) AS number_arrivals,\n",
    "                                    cast(AVG(stay_duration) AS DECIMAL(10,2)) AS avg_day_stay\n",
    "                                    \n",
    "                                                                                                       \n",
    "                                    FROM tourist_arrivals\n",
    "                                    \n",
    "                                    GROUP BY airport_code, travel_reason\n",
    "                                    \n",
    "                                    ORDER BY airport_code LIMIT 20\n",
    "\"\"\")"
   ]
  },
  {
   "cell_type": "code",
   "execution_count": 52,
   "metadata": {
    "editable": true
   },
   "outputs": [
    {
     "data": {
      "text/html": [
       "<div>\n",
       "<style scoped>\n",
       "    .dataframe tbody tr th:only-of-type {\n",
       "        vertical-align: middle;\n",
       "    }\n",
       "\n",
       "    .dataframe tbody tr th {\n",
       "        vertical-align: top;\n",
       "    }\n",
       "\n",
       "    .dataframe thead th {\n",
       "        text-align: right;\n",
       "    }\n",
       "</style>\n",
       "<table border=\"1\" class=\"dataframe\">\n",
       "  <thead>\n",
       "    <tr style=\"text-align: right;\">\n",
       "      <th></th>\n",
       "      <th>airport_code</th>\n",
       "      <th>travel_reason</th>\n",
       "      <th>number_arrivals</th>\n",
       "      <th>avg_day_stay</th>\n",
       "    </tr>\n",
       "  </thead>\n",
       "  <tbody>\n",
       "    <tr>\n",
       "      <th>0</th>\n",
       "      <td>5T6</td>\n",
       "      <td>Pleasure</td>\n",
       "      <td>10</td>\n",
       "      <td>19.80</td>\n",
       "    </tr>\n",
       "    <tr>\n",
       "      <th>1</th>\n",
       "      <td>5T6</td>\n",
       "      <td>Business</td>\n",
       "      <td>2</td>\n",
       "      <td>2.00</td>\n",
       "    </tr>\n",
       "    <tr>\n",
       "      <th>2</th>\n",
       "      <td>ABQ</td>\n",
       "      <td>Business</td>\n",
       "      <td>1</td>\n",
       "      <td>72.00</td>\n",
       "    </tr>\n",
       "    <tr>\n",
       "      <th>3</th>\n",
       "      <td>ACY</td>\n",
       "      <td>Business</td>\n",
       "      <td>4</td>\n",
       "      <td>3.25</td>\n",
       "    </tr>\n",
       "    <tr>\n",
       "      <th>4</th>\n",
       "      <td>ACY</td>\n",
       "      <td>Pleasure</td>\n",
       "      <td>1</td>\n",
       "      <td>1.00</td>\n",
       "    </tr>\n",
       "  </tbody>\n",
       "</table>\n",
       "</div>"
      ],
      "text/plain": [
       "  airport_code travel_reason  number_arrivals avg_day_stay\n",
       "0          5T6      Pleasure               10        19.80\n",
       "1          5T6      Business                2         2.00\n",
       "2          ABQ      Business                1        72.00\n",
       "3          ACY      Business                4         3.25\n",
       "4          ACY      Pleasure                1         1.00"
      ]
     },
     "execution_count": 52,
     "metadata": {},
     "output_type": "execute_result"
    }
   ],
   "source": [
    "# View query results as a dataframe\n",
    "spark_to_pandas(count_air_arrivals.take(5))"
   ]
  },
  {
   "cell_type": "code",
   "execution_count": 53,
   "metadata": {
    "editable": true
   },
   "outputs": [],
   "source": [
    "# This query will count air_arrivals and calculate their average stay duration and group by city, \n",
    "## origin country and travel reason, using fact and dimension tables\n",
    "count_air_arrivals_origin_country=spark.sql(\"\"\"SELECT a.city,\n",
    "                                                    i.origin_country,\n",
    "                                                    t.travel_reason,                                                    \n",
    "                                                    COUNT(t.admission_number) AS number_arrivals,\n",
    "                                                    cast(AVG(t.stay_duration) AS DECIMAL(10,2)) AS avg_day_stay\n",
    "                                    \n",
    "                                                                                                       \n",
    "                                                    FROM tourist_arrivals t JOIN airports a ON t.airport_code = a.airport_code\n",
    "                                                    JOIN immigration i ON t.admission_number = i.admission_number\n",
    "                                    \n",
    "                                                    GROUP BY a.city, i.origin_country, t.travel_reason\n",
    "                                                    \n",
    "                                                    ORDER BY a.city LIMIT 10\n",
    "                                    \n",
    "\"\"\")"
   ]
  },
  {
   "cell_type": "code",
   "execution_count": 54,
   "metadata": {
    "editable": true
   },
   "outputs": [
    {
     "data": {
      "text/html": [
       "<div>\n",
       "<style scoped>\n",
       "    .dataframe tbody tr th:only-of-type {\n",
       "        vertical-align: middle;\n",
       "    }\n",
       "\n",
       "    .dataframe tbody tr th {\n",
       "        vertical-align: top;\n",
       "    }\n",
       "\n",
       "    .dataframe thead th {\n",
       "        text-align: right;\n",
       "    }\n",
       "</style>\n",
       "<table border=\"1\" class=\"dataframe\">\n",
       "  <thead>\n",
       "    <tr style=\"text-align: right;\">\n",
       "      <th></th>\n",
       "      <th>city</th>\n",
       "      <th>origin_country</th>\n",
       "      <th>travel_reason</th>\n",
       "      <th>number_arrivals</th>\n",
       "      <th>avg_day_stay</th>\n",
       "    </tr>\n",
       "  </thead>\n",
       "  <tbody>\n",
       "    <tr>\n",
       "      <th>0</th>\n",
       "      <td>Akron</td>\n",
       "      <td>BAHAMAS</td>\n",
       "      <td>Pleasure</td>\n",
       "      <td>1</td>\n",
       "      <td>6.00</td>\n",
       "    </tr>\n",
       "    <tr>\n",
       "      <th>1</th>\n",
       "      <td>Albany</td>\n",
       "      <td>AUSTRIA</td>\n",
       "      <td>Pleasure</td>\n",
       "      <td>2</td>\n",
       "      <td>4.00</td>\n",
       "    </tr>\n",
       "    <tr>\n",
       "      <th>2</th>\n",
       "      <td>Albany</td>\n",
       "      <td>IRELAND</td>\n",
       "      <td>Pleasure</td>\n",
       "      <td>1</td>\n",
       "      <td>10.00</td>\n",
       "    </tr>\n",
       "    <tr>\n",
       "      <th>3</th>\n",
       "      <td>Albuquerque</td>\n",
       "      <td>FRANCE</td>\n",
       "      <td>Business</td>\n",
       "      <td>1</td>\n",
       "      <td>72.00</td>\n",
       "    </tr>\n",
       "    <tr>\n",
       "      <th>4</th>\n",
       "      <td>Alexandria Bay</td>\n",
       "      <td>FRANCE</td>\n",
       "      <td>Pleasure</td>\n",
       "      <td>2</td>\n",
       "      <td>4.00</td>\n",
       "    </tr>\n",
       "  </tbody>\n",
       "</table>\n",
       "</div>"
      ],
      "text/plain": [
       "             city origin_country travel_reason  number_arrivals avg_day_stay\n",
       "0           Akron        BAHAMAS      Pleasure                1         6.00\n",
       "1          Albany        AUSTRIA      Pleasure                2         4.00\n",
       "2          Albany        IRELAND      Pleasure                1        10.00\n",
       "3     Albuquerque         FRANCE      Business                1        72.00\n",
       "4  Alexandria Bay         FRANCE      Pleasure                2         4.00"
      ]
     },
     "execution_count": 54,
     "metadata": {},
     "output_type": "execute_result"
    }
   ],
   "source": [
    "spark_to_pandas(count_air_arrivals_origin_country.take(5))"
   ]
  },
  {
   "cell_type": "markdown",
   "metadata": {
    "editable": true
   },
   "source": [
    "#### Step 5: Complete Project Write Up"
   ]
  },
  {
   "cell_type": "markdown",
   "metadata": {
    "editable": true
   },
   "source": [
    "1. To develop this project, I used Apache Spark to read, transform, create and load data in order to make data analysis to the Car Rental Company possible. The reason for this was due to the small amount of data, the size of the data model (star schema with 3 tables)  and the speed of Spark.\n",
    "2. The data should be updated annually, as soon as they are available by the resources organizations, since tourist behaviors can change differently by destinations (cities)\n",
    "3. Under the following scenarios, I would approach the problem differently:\n",
    "- __In case the data was increased by 100x__,  Apache Hadoop could be used to create a distributed processing system for faster processing.\n",
    "- __In case the data needs to populate a dashboard that must be updated on a daily basis by 7am every day__, Apache Airflow could be used to create a schedule to run a distributed update on all tables with data streamed from the source.\n",
    "- __In case the database needed to be accessed by 100+ people__, the project could be hosted in a solution in production scale data warehouse in the cloud, like  Amazon AWS, with larger capacity to serve a lot of users, and workload management to ensure equitable usage of resources across users."
   ]
  }
 ],
 "metadata": {
  "kernelspec": {
   "display_name": "Python 3",
   "language": "python",
   "name": "python3"
  },
  "language_info": {
   "codemirror_mode": {
    "name": "ipython",
    "version": 3
   },
   "file_extension": ".py",
   "mimetype": "text/x-python",
   "name": "python",
   "nbconvert_exporter": "python",
   "pygments_lexer": "ipython3",
   "version": "3.6.3"
  }
 },
 "nbformat": 4,
 "nbformat_minor": 4
}
